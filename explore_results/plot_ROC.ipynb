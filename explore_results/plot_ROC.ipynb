{
 "cells": [
  {
   "cell_type": "code",
   "execution_count": 1,
   "metadata": {},
   "outputs": [],
   "source": [
    "import os\n",
    "import sys\n",
    "import csv\n",
    "import numpy as np\n",
    "import pandas as pd\n",
    "from glob import glob\n",
    "from datetime import datetime, timedelta\n",
    "\n",
    "from sklearn import metrics\n",
    "# from sklearn.metrics import roc_auc_score\n",
    "\n",
    "from my_functions import *\n",
    "\n",
    "import matplotlib.pyplot as plt\n",
    "%matplotlib inline\n",
    "import seaborn as sns\n"
   ]
  },
  {
   "cell_type": "code",
   "execution_count": 2,
   "metadata": {},
   "outputs": [],
   "source": [
    "mpl_update = {\n",
    "    'font.size': 20,\n",
    "    'xtick.labelsize': 24,\n",
    "    'ytick.labelsize': 24,\n",
    "    'figure.figsize': [9,6],\n",
    "    'axes.labelsize': 32,\n",
    "    'axes.titlesize': 32,\n",
    "    'lines.linewidth': 4,\n",
    "    'legend.markerscale':6.0,\n",
    "    'legend.fontsize': 24\n",
    "}\n",
    "plt.rcParams.update(mpl_update)\n",
    "\n",
    "c1, c2 = sns.color_palette(\"crest\")[0], sns.color_palette(\"crest\")[-1]"
   ]
  },
  {
   "cell_type": "code",
   "execution_count": 23,
   "metadata": {},
   "outputs": [
    {
     "name": "stdout",
     "output_type": "stream",
     "text": [
      "                 timestamp       img  occupied hr_min_sec\n",
      "6210   2019-06-03 17:15:00  0.162154       1.0   17:15:00\n",
      "6211   2019-06-03 17:15:10  0.307263       1.0   17:15:10\n",
      "6212   2019-06-03 17:15:20  0.286590       1.0   17:15:20\n",
      "6213   2019-06-03 17:15:30  0.312776       1.0   17:15:30\n",
      "6214   2019-06-03 17:15:40  0.317065       1.0   17:15:40\n",
      "...                    ...       ...       ...        ...\n",
      "246509 2019-07-01 12:44:50  0.480555       1.0   12:44:50\n",
      "246510 2019-07-01 12:45:00  0.475246       1.0   12:45:00\n",
      "246511 2019-07-01 12:45:10  0.514711       1.0   12:45:10\n",
      "246512 2019-07-01 12:45:20  0.502303       1.0   12:45:20\n",
      "246513 2019-07-01 12:45:30  0.455266       1.0   12:45:30\n",
      "\n",
      "[166573 rows x 4 columns]\n"
     ]
    }
   ],
   "source": [
    "path = '/Volumes/TOSHIBA-12/H5-red/'\n",
    "home_system = os.path.basename(path.strip('/'))\n",
    "H = home_system.split('-')\n",
    "H_num, color = H[0], H[1][0].upper()\n",
    "\n",
    "# hubs = sorted(glob(os.path.join(path, '*S*')))\n",
    "# print(hubs)\n",
    "\n",
    "hubs = sorted(mylistdir(path, bit=f'{color}S', end=False))\n",
    "\n",
    "prob_paths = glob(os.path.join(path, 'Inference_DB', 'Full_inferences', '*_*S*_prob.csv'))\n",
    "\n",
    "p = prob_paths[0]\n",
    "\n",
    "df = pd.read_csv(p, usecols=['timestamp','img', 'occupied'])\n",
    "df = df.dropna()\n",
    "\n",
    "\n",
    "df.timestamp = pd.to_datetime(df.timestamp)\n",
    "df['hr_min_sec'] = df['timestamp'].dt.time\n",
    "print(df)"
   ]
  },
  {
   "cell_type": "code",
   "execution_count": 15,
   "metadata": {},
   "outputs": [
    {
     "name": "stdout",
     "output_type": "stream",
     "text": [
      "7088\n"
     ]
    }
   ],
   "source": [
    "print(len(df.hr_min_sec.unique()))"
   ]
  },
  {
   "cell_type": "code",
   "execution_count": 27,
   "metadata": {},
   "outputs": [
    {
     "name": "stdout",
     "output_type": "stream",
     "text": [
      "137431\n"
     ]
    }
   ],
   "source": [
    "start = datetime.strptime('08:00:00', '%H:%M:%S').time()\n",
    "end = datetime.strptime('23:59:50', '%H:%M:%S').time()\n",
    "\n",
    "df = df.loc[(df['hr_min_sec'] >= start) & (df['hr_min_sec'] <= end)]\n",
    "print(len(df))"
   ]
  },
  {
   "cell_type": "code",
   "execution_count": 28,
   "metadata": {},
   "outputs": [
    {
     "name": "stdout",
     "output_type": "stream",
     "text": [
      "                 timestamp       img  occupied hr_min_sec\n",
      "6210   2019-06-03 17:15:00  0.162154       1.0   17:15:00\n",
      "6211   2019-06-03 17:15:10  0.307263       1.0   17:15:10\n",
      "6212   2019-06-03 17:15:20  0.286590       1.0   17:15:20\n",
      "6213   2019-06-03 17:15:30  0.312776       1.0   17:15:30\n",
      "6214   2019-06-03 17:15:40  0.317065       1.0   17:15:40\n",
      "...                    ...       ...       ...        ...\n",
      "246509 2019-07-01 12:44:50  0.480555       1.0   12:44:50\n",
      "246510 2019-07-01 12:45:00  0.475246       1.0   12:45:00\n",
      "246511 2019-07-01 12:45:10  0.514711       1.0   12:45:10\n",
      "246512 2019-07-01 12:45:20  0.502303       1.0   12:45:20\n",
      "246513 2019-07-01 12:45:30  0.455266       1.0   12:45:30\n",
      "\n",
      "[137431 rows x 4 columns]\n",
      "No Skill: ROC AUC=0.500\n",
      "Logistic: ROC AUC=0.701\n"
     ]
    },
    {
     "data": {
      "image/png": "[encoded data removed]",
      "text/plain": [
       "<Figure size 432x432 with 1 Axes>"
      ]
     },
     "metadata": {
      "needs_background": "light"
     },
     "output_type": "display_data"
    }
   ],
   "source": [
    "print(df)\n",
    "\n",
    "\n",
    "lr_fpr, lr_tpr, thresholds = metrics.roc_curve(df.occupied, df.img, pos_label=1)\n",
    "\n",
    "ns_probs = [0 for _ in range(len(df))]\n",
    "ns_fpr, ns_tpr, _ = metrics.roc_curve(df.occupied, ns_probs, pos_label=1)\n",
    "\n",
    "lr_auc = metrics.roc_auc_score(df.occupied, df.img)\n",
    "ns_auc = metrics.roc_auc_score(df.occupied, ns_probs)\n",
    "\n",
    "print('No Skill: ROC AUC=%.3f' % (ns_auc))\n",
    "print('Logistic: ROC AUC=%.3f' % (lr_auc))\n",
    "\n",
    "plt.rcParams['figure.figsize']=(6,6)\n",
    "\n",
    "plt.plot(ns_fpr, ns_tpr, linestyle='--', label='No Skill')\n",
    "plt.plot(lr_fpr, lr_tpr, marker='.', label='Logistic')\n",
    "# axis labels\n",
    "plt.xlabel('False Positive Rate')\n",
    "plt.ylabel('True Positive Rate')\n",
    "# show the legend\n",
    "plt.legend()\n",
    "# show the plot\n",
    "plt.show()"
   ]
  },
  {
   "cell_type": "code",
   "execution_count": null,
   "metadata": {},
   "outputs": [],
   "source": [
    "plt.plot(fpr_ns, tpr_ns)"
   ]
  }
 ],
 "metadata": {
  "kernelspec": {
   "display_name": "Python 3",
   "language": "python",
   "name": "python3"
  },
  "language_info": {
   "codemirror_mode": {
    "name": "ipython",
    "version": 3
   },
   "file_extension": ".py",
   "mimetype": "text/x-python",
   "name": "python",
   "nbconvert_exporter": "python",
   "pygments_lexer": "ipython3",
   "version": "3.7.4"
  }
 },
 "nbformat": 4,
 "nbformat_minor": 4
}
